{
 "cells": [
  {
   "cell_type": "markdown",
   "id": "e4b01c20-7828-4dfd-b3b0-9b5bcbdf9845",
   "metadata": {},
   "source": [
    "# Data Science Tools and Ecosystem"
   ]
  },
  {
   "cell_type": "markdown",
   "id": "a272f7c6-7240-4362-a946-26583b36b44d",
   "metadata": {},
   "source": [
    "In this notebook, Data Science Tools and Ecosystem are summarized."
   ]
  },
  {
   "cell_type": "markdown",
   "id": "1212304a-c8c1-4915-9be0-451627404eae",
   "metadata": {},
   "source": [
    "**Objectives:**\n",
    "\n",
    "- List popular languages for Data Science.\n",
    "- Identify key libraries used in Data Science.\n",
    "- Create visualizations using Python tools.\n",
    "- Understand the importance of data cleaning and preprocessing.\n",
    "- Explore various development environments for Data Science."
   ]
  },
  {
   "cell_type": "markdown",
   "id": "4627a2c3-ae44-4cf1-909f-bb27432f3885",
   "metadata": {},
   "source": [
    "Some of the popular languages that Data Scientists use are:\n",
    "1. Python\n",
    "2. R\n",
    "3. Scala"
   ]
  },
  {
   "cell_type": "markdown",
   "id": "76c2232c-dce2-48a2-bfcd-ef2f3a5c5107",
   "metadata": {},
   "source": [
    "Some of the commonly used libraries used by Data Scientists include:\n",
    "1. Panda\n",
    "2. NumPy\n",
    "3. PyTorch"
   ]
  },
  {
   "cell_type": "markdown",
   "id": "71b8004d-9cb8-44e8-90a7-0c5806b97b4d",
   "metadata": {},
   "source": [
    "| Data Science Tools        |\n",
    "|---------------------------|\n",
    "| Jupyter Notebook          |\n",
    "| RStudio                   |\n",
    "| Apache Spark           |"
   ]
  },
  {
   "cell_type": "markdown",
   "id": "28ab655b-558d-4b09-b3ef-fa749fe7821c",
   "metadata": {},
   "source": [
    "### Below are a few examples of evaluating arithmetic expressions in Python"
   ]
  },
  {
   "cell_type": "code",
   "execution_count": 2,
   "id": "1021224b-38d6-44c6-8d5d-56340c167eda",
   "metadata": {},
   "outputs": [
    {
     "data": {
      "text/plain": [
       "17"
      ]
     },
     "execution_count": 2,
     "metadata": {},
     "output_type": "execute_result"
    }
   ],
   "source": [
    "#This a simple arithmetic expression to mutiply then add integers\n",
    "(3*4)+5"
   ]
  },
  {
   "cell_type": "code",
   "execution_count": 4,
   "id": "eb27217a-5d51-461c-8503-65102561760d",
   "metadata": {},
   "outputs": [
    {
     "data": {
      "text/plain": [
       "3.3333333333333335"
      ]
     },
     "execution_count": 4,
     "metadata": {},
     "output_type": "execute_result"
    }
   ],
   "source": [
    "# This will convert 200 minutes to hours by diving by 60\n",
    "200 / 60\n",
    "# it will be 3h 20 min aprox"
   ]
  },
  {
   "cell_type": "markdown",
   "id": "6cba1a5d-59b6-4ef1-b685-8ef11b2b2a2d",
   "metadata": {},
   "source": [
    "## Author\n",
    "Jose Manuel Paredes del Rio"
   ]
  },
  {
   "cell_type": "code",
   "execution_count": null,
   "id": "cb21efe8-ef69-4d7f-ab4c-c30dabb8c1d7",
   "metadata": {},
   "outputs": [],
   "source": []
  }
 ],
 "metadata": {
  "kernelspec": {
   "display_name": "Python 3 (ipykernel)",
   "language": "python",
   "name": "python3"
  },
  "language_info": {
   "codemirror_mode": {
    "name": "ipython",
    "version": 3
   },
   "file_extension": ".py",
   "mimetype": "text/x-python",
   "name": "python",
   "nbconvert_exporter": "python",
   "pygments_lexer": "ipython3",
   "version": "3.12.1"
  }
 },
 "nbformat": 4,
 "nbformat_minor": 5
}
